{
 "cells": [
  {
   "cell_type": "code",
   "execution_count": 2,
   "metadata": {},
   "outputs": [],
   "source": [
    "import pandas as pd\n",
    "from utils import clean_company_name, clean_dataframe "
   ]
  },
  {
   "cell_type": "code",
   "execution_count": 11,
   "metadata": {},
   "outputs": [],
   "source": [
    "def get_common_names(companies):\n",
    "    companies = clean_dataframe(companies,[])\n",
    "    companies= companies.applymap(clean_company_name)\n",
    "    return list(set(companies.iloc[:, 0]).intersection(set(companies.iloc[:, 1])))"
   ]
  },
  {
   "cell_type": "code",
   "execution_count": 24,
   "metadata": {},
   "outputs": [],
   "source": [
    "df_complaints = pd.read_csv('complaints.csv', chunksize=1000, keep_default_na=False, na_values=['NA'])\n",
    "df_sub = pd.read_csv(\"sub.txt\", sep='\\t', chunksize=1000, keep_default_na=False, na_values=['NA'])\n",
    "\n",
    "complaint_chunks = []\n",
    "sub_chunks = []\n",
    "\n",
    "for complaint_chunk, sub_chunk in zip(df_complaints, df_sub):\n",
    "    common_names = get_common_names(pd.concat([complaint_chunk['Company'], sub_chunk['name']], axis=1))\n",
    "    complaint_chunk['Company'] = complaint_chunk['Company'].apply(clean_company_name)\n",
    "    sub_chunk['name'] = sub_chunk['name'].apply(clean_company_name)\n",
    "    complaint_chunk = complaint_chunk[complaint_chunk['Company'].isin(common_names)]\n",
    "    sub_chunk = sub_chunk[sub_chunk['name'].isin(common_names)]\n",
    "    \n",
    "    # Append concatenated chunks to lists\n",
    "    complaint_chunks.append(complaint_chunk)\n",
    "    sub_chunks.append(sub_chunk)\n",
    "\n",
    "# Concatenate all chunks into single DataFrames\n",
    "df_complaints_concatenated = pd.concat(complaint_chunks)\n",
    "df_sub_concatenated = pd.concat(sub_chunks)\n",
    "\n",
    "# Save concatenated DataFrames to CSV files\n",
    "df_complaints_concatenated.to_csv('complaints_concatenated.csv', index=False)\n",
    "df_sub_concatenated.to_csv('sub_concatenated.csv', index=False)"
   ]
  },
  {
   "cell_type": "code",
   "execution_count": 25,
   "metadata": {},
   "outputs": [
    {
     "data": {
      "text/plain": [
       "2140"
      ]
     },
     "execution_count": 25,
     "metadata": {},
     "output_type": "execute_result"
    }
   ],
   "source": [
    "df_complaints_concatenated['Complaint ID'].count()"
   ]
  },
  {
   "cell_type": "code",
   "execution_count": 26,
   "metadata": {},
   "outputs": [
    {
     "data": {
      "text/plain": [
       "60"
      ]
     },
     "execution_count": 26,
     "metadata": {},
     "output_type": "execute_result"
    }
   ],
   "source": [
    "df_sub_concatenated['cik'].count()"
   ]
  }
 ],
 "metadata": {
  "kernelspec": {
   "display_name": "Python 3",
   "language": "python",
   "name": "python3"
  },
  "language_info": {
   "codemirror_mode": {
    "name": "ipython",
    "version": 3
   },
   "file_extension": ".py",
   "mimetype": "text/x-python",
   "name": "python",
   "nbconvert_exporter": "python",
   "pygments_lexer": "ipython3",
   "version": "3.9.12"
  }
 },
 "nbformat": 4,
 "nbformat_minor": 2
}
